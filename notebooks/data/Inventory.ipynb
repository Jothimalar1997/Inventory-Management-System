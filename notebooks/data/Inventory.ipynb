{
 "cells": [
  {
   "cell_type": "code",
   "execution_count": 1,
   "metadata": {},
   "outputs": [],
   "source": [
    "import pandas as pd\n",
    "from typing import Union, Tuple\n",
    "import warnings\n",
    "warnings.filterwarnings(action='ignore')"
   ]
  },
  {
   "cell_type": "code",
   "execution_count": 2,
   "metadata": {},
   "outputs": [],
   "source": [
    "CSV_FILE_PATH = \"G:/JoJo/Accenture/Inventory management/notebooks/data/inventory_table.csv\""
   ]
  },
  {
   "cell_type": "code",
   "execution_count": 3,
   "metadata": {},
   "outputs": [],
   "source": [
    "def import_data()->pd.DataFrame:\n",
    "    \"\"\"Function to import data from CSV file\n",
    "    Returns: DataFrame\"\"\"\n",
    "    data=pd.read_csv(CSV_FILE_PATH)\n",
    "    return data"
   ]
  },
  {
   "cell_type": "code",
   "execution_count": 4,
   "metadata": {},
   "outputs": [],
   "source": [
    "def export_data(data):\n",
    "    return data.to_csv(CSV_FILE_PATH,index=False)  "
   ]
  },
  {
   "cell_type": "code",
   "execution_count": 5,
   "metadata": {},
   "outputs": [],
   "source": [
    "def get_available_products()->Tuple:\n",
    "    data=import_data()\n",
    "    return tuple(data[\"Product_Name\"].unique())"
   ]
  },
  {
   "cell_type": "code",
   "execution_count": 14,
   "metadata": {},
   "outputs": [],
   "source": [
    "def add_new_product(name:str, category:str, price:int, quantity:int) -> str:\n",
    "    \"\"\"\n",
    "    Function to add new product to inventory management table\n",
    "    \n",
    "    Args:\n",
    "    name: Product name\n",
    "    category: Type of product category\n",
    "    price: MRP of product\n",
    "    quantity: Number of quantities available\n",
    "\n",
    "    Returns: String\n",
    "    \"\"\"\n",
    "    data=import_data()\n",
    "    available_prod=get_available_products()\n",
    "    print(available_prod)\n",
    "    if name in available_prod:\n",
    "        return \"Product name already exists, please update it if needed.\"\n",
    "    data.loc[len(data)] = [name,category,price,quantity]\n",
    "    export_data(data)\n",
    "    return \"Product details inserted successfully\""
   ]
  },
  {
   "cell_type": "code",
   "execution_count": 15,
   "metadata": {},
   "outputs": [
    {
     "name": "stdout",
     "output_type": "stream",
     "text": [
      "('dettol', 'lizol', 'coffee powder', 'tea powder', 'milk', 'sugar', 'salt', 'diaper', 'baby lotion', 'baby rash cream', 'baby milk powder', 'Savlon', 'Ariel', 'Surf excel', 'Rin', 'eyeliner')\n"
     ]
    },
    {
     "data": {
      "text/plain": [
       "'Product name already exists, please update it if needed.'"
      ]
     },
     "execution_count": 15,
     "metadata": {},
     "output_type": "execute_result"
    }
   ],
   "source": [
    "add_new_product(\"eyeliner\",\"cosmetics\",\"180\",\"100\")"
   ]
  },
  {
   "cell_type": "code",
   "execution_count": null,
   "metadata": {},
   "outputs": [],
   "source": [
    "def update_product(name:str, field_to_update:str, value:Union[int,str])-> None:\n",
    "    \"\"\"\n",
    "    Function to update the existing product to inventory management table\n",
    "    \n",
    "    Args:\n",
    "    name: Product name\n",
    "    field_to_update: Field name to be updated\n",
    "    value: Value to be updated\n",
    "\n",
    "    Returns: None\n",
    "    \"\"\"\n",
    "    data=pd.read_csv(CSV_FILE_PATH)\n",
    "    data.loc[data[\"Product_Name\"]==name,field_to_update] = value\n",
    "    export_data(data)\n"
   ]
  },
  {
   "cell_type": "code",
   "execution_count": null,
   "metadata": {},
   "outputs": [],
   "source": [
    "update_product(\"eyeliner\",\"Quantity\",120)"
   ]
  },
  {
   "cell_type": "code",
   "execution_count": null,
   "metadata": {},
   "outputs": [],
   "source": [
    "def display_inventory_details()->pd.DataFrame:\n",
    "    \"\"\"\n",
    "    Function to display the inventory details\n",
    "    Returns: DataFrame\n",
    "    \"\"\"\n",
    "    data=pd.read_csv(CSV_FILE_PATH)\n",
    "    print(data[[\"Product_Name\",\"Quantity\"]])"
   ]
  },
  {
   "cell_type": "code",
   "execution_count": null,
   "metadata": {},
   "outputs": [
    {
     "name": "stdout",
     "output_type": "stream",
     "text": [
      "        Product_Name  Quantity\n",
      "0             dettol        30\n",
      "1              lizol        15\n",
      "2      coffee powder        50\n",
      "3         tea powder        60\n",
      "4               milk        25\n",
      "5              sugar        50\n",
      "6               salt        50\n",
      "7             diaper        20\n",
      "8        baby lotion        30\n",
      "9    baby rash cream        10\n",
      "10  baby milk powder        20\n",
      "11            Savlon        40\n",
      "12             Ariel        30\n",
      "13        Surf excel        30\n",
      "14               Rin        30\n",
      "15          eyeliner       120\n"
     ]
    }
   ],
   "source": [
    "display_inventory_details()"
   ]
  },
  {
   "cell_type": "code",
   "execution_count": null,
   "metadata": {},
   "outputs": [],
   "source": [
    "def sales_of_product(name:str,quantity:int)-> None:\n",
    "    \"\"\"Function to allow for the sale of products and to update the inventory accordingly.\n",
    "\n",
    "    Args:\n",
    "    name: Product name\n",
    "    quntity: Quantity\n",
    "\n",
    "    Returns: None   \n",
    "    \n",
    "    \"\"\"\n",
    "    data=import_data()\n",
    "    available_quantity=int(data.loc[data[\"Product_Name\"]==name,\"Quantity\"])\n",
    "    if name not in list(data[\"Product_Name\"].unique()):\n",
    "        print(\"Sorry, the product is not available\")\n",
    "    elif available_quantity<quantity:\n",
    "        print(f\"Sorry, we have only {available_quantity} quantities available for {name}\")\n",
    "    else:\n",
    "        data.loc[data[\"Product_Name\"]==name,\"Quantity\"]=int(data.loc[data[\"Product_Name\"]==name,\"Quantity\"]-int(quantity))\n",
    "        print(data.loc[data[\"Product_Name\"]==name,\"Quantity\"])\n",
    "        export_data(data)"
   ]
  },
  {
   "cell_type": "code",
   "execution_count": null,
   "metadata": {},
   "outputs": [],
   "source": []
  },
  {
   "cell_type": "code",
   "execution_count": null,
   "metadata": {},
   "outputs": [],
   "source": [
    "def generate_alert(threshold=20)->list:\n",
    "    \"\"\"Function to generate an alert if the product quantity is less than threshold\n",
    "    \n",
    "    args:\n",
    "    threshold: number\n",
    "    default threshold: 20\n",
    "\n",
    "    Returns: List\n",
    "\n",
    "    \"\"\"\n",
    "    data=import_data()\n",
    "    product=list(data[data[\"Quantity\"]<threshold][\"Product_Name\"])\n",
    "    print(f\"{product} has to be restocked. It's quantity is below {threshold}.\")"
   ]
  },
  {
   "cell_type": "code",
   "execution_count": null,
   "metadata": {},
   "outputs": [
    {
     "name": "stdout",
     "output_type": "stream",
     "text": [
      "['dettol', 'lizol', 'milk', 'diaper', 'baby lotion', 'baby rash cream', 'baby milk powder', 'Ariel', 'Surf excel', 'Rin'] has to be restocked. It's quantity is below 40.\n"
     ]
    }
   ],
   "source": [
    "generate_alert(40)"
   ]
  }
 ],
 "metadata": {
  "kernelspec": {
   "display_name": "inventory_env",
   "language": "python",
   "name": "python3"
  },
  "language_info": {
   "codemirror_mode": {
    "name": "ipython",
    "version": 3
   },
   "file_extension": ".py",
   "mimetype": "text/x-python",
   "name": "python",
   "nbconvert_exporter": "python",
   "pygments_lexer": "ipython3",
   "version": "3.10.9"
  }
 },
 "nbformat": 4,
 "nbformat_minor": 2
}
