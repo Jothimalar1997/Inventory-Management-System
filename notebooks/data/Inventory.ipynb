{
 "cells": [
  {
   "cell_type": "code",
   "execution_count": 188,
   "metadata": {},
   "outputs": [],
   "source": [
    "import pandas as pd\n",
    "from typing import Union\n",
    "import warnings\n",
    "warnings.filterwarnings(action='ignore')"
   ]
  },
  {
   "cell_type": "code",
   "execution_count": 189,
   "metadata": {},
   "outputs": [
    {
     "data": {
      "text/html": [
       "<div>\n",
       "<style scoped>\n",
       "    .dataframe tbody tr th:only-of-type {\n",
       "        vertical-align: middle;\n",
       "    }\n",
       "\n",
       "    .dataframe tbody tr th {\n",
       "        vertical-align: top;\n",
       "    }\n",
       "\n",
       "    .dataframe thead th {\n",
       "        text-align: right;\n",
       "    }\n",
       "</style>\n",
       "<table border=\"1\" class=\"dataframe\">\n",
       "  <thead>\n",
       "    <tr style=\"text-align: right;\">\n",
       "      <th></th>\n",
       "      <th>Product_Name</th>\n",
       "      <th>Category</th>\n",
       "      <th>Price</th>\n",
       "      <th>Quantity</th>\n",
       "    </tr>\n",
       "  </thead>\n",
       "  <tbody>\n",
       "    <tr>\n",
       "      <th>0</th>\n",
       "      <td>dettol</td>\n",
       "      <td>Antiseptic</td>\n",
       "      <td>180</td>\n",
       "      <td>40</td>\n",
       "    </tr>\n",
       "    <tr>\n",
       "      <th>1</th>\n",
       "      <td>lizol</td>\n",
       "      <td>Antiseptic</td>\n",
       "      <td>100</td>\n",
       "      <td>15</td>\n",
       "    </tr>\n",
       "    <tr>\n",
       "      <th>2</th>\n",
       "      <td>coffee powder</td>\n",
       "      <td>Household</td>\n",
       "      <td>80</td>\n",
       "      <td>50</td>\n",
       "    </tr>\n",
       "    <tr>\n",
       "      <th>3</th>\n",
       "      <td>tea powder</td>\n",
       "      <td>Household</td>\n",
       "      <td>60</td>\n",
       "      <td>60</td>\n",
       "    </tr>\n",
       "    <tr>\n",
       "      <th>4</th>\n",
       "      <td>milk</td>\n",
       "      <td>Household</td>\n",
       "      <td>25</td>\n",
       "      <td>20</td>\n",
       "    </tr>\n",
       "  </tbody>\n",
       "</table>\n",
       "</div>"
      ],
      "text/plain": [
       "    Product_Name    Category  Price  Quantity\n",
       "0         dettol  Antiseptic    180        40\n",
       "1          lizol  Antiseptic    100        15\n",
       "2  coffee powder   Household     80        50\n",
       "3     tea powder   Household     60        60\n",
       "4           milk   Household     25        20"
      ]
     },
     "execution_count": 189,
     "metadata": {},
     "output_type": "execute_result"
    }
   ],
   "source": [
    "data=pd.read_csv(\"G:/JoJo/Accenture/Inventory management/notebooks/data/inventory_table.csv\")\n",
    "data.head()"
   ]
  },
  {
   "cell_type": "code",
   "execution_count": 190,
   "metadata": {},
   "outputs": [],
   "source": [
    "def add_new_product(name:str, category:str, price:int, quantity:int) -> None:\n",
    "    \"\"\"\n",
    "    Function to add new product to inventory management table\n",
    "    \n",
    "    Args:\n",
    "    name: Product name\n",
    "    category: Type of product category\n",
    "    price: MRP of product\n",
    "    quantity: Number of quantities available\n",
    "\n",
    "    Returns: None\n",
    "    \"\"\"\n",
    "    data.loc[len(data)] = [name,category,price,quantity]"
   ]
  },
  {
   "cell_type": "code",
   "execution_count": 191,
   "metadata": {},
   "outputs": [],
   "source": [
    "add_new_product(\"eyeliner\",\"cosmetics\",\"180\",\"100\")"
   ]
  },
  {
   "cell_type": "code",
   "execution_count": 192,
   "metadata": {},
   "outputs": [],
   "source": [
    "def update_product(name:str, field_to_update:str, value:Union[int,str])-> None:\n",
    "    \"\"\"\n",
    "    Function to update the existing product to inventory management table\n",
    "    \n",
    "    Args:\n",
    "    name: Product name\n",
    "    field_to_update: Field name to be updated\n",
    "    value: Value to be updated\n",
    "\n",
    "    Returns: None\n",
    "    \"\"\"\n",
    "    data.loc[data[\"Product_Name\"]==name,field_to_update] = value\n"
   ]
  },
  {
   "cell_type": "code",
   "execution_count": 193,
   "metadata": {},
   "outputs": [],
   "source": [
    "update_product(\"eyeliner\",\"Quantity\",120)"
   ]
  },
  {
   "cell_type": "code",
   "execution_count": 194,
   "metadata": {},
   "outputs": [],
   "source": [
    "def display_inventory_details()->pd.DataFrame:\n",
    "    \"\"\"\n",
    "    Function to display the inventory details\n",
    "    Returns: DataFrame\n",
    "    \"\"\"\n",
    "    print(data[[\"Product_Name\",\"Quantity\"]])"
   ]
  },
  {
   "cell_type": "code",
   "execution_count": 195,
   "metadata": {},
   "outputs": [
    {
     "name": "stdout",
     "output_type": "stream",
     "text": [
      "        Product_Name Quantity\n",
      "0             dettol       40\n",
      "1              lizol       15\n",
      "2      coffee powder       50\n",
      "3         tea powder       60\n",
      "4               milk       20\n",
      "5              sugar       50\n",
      "6               salt       50\n",
      "7             diaper       20\n",
      "8        baby lotion       30\n",
      "9    baby rash cream       10\n",
      "10  baby milk powder       20\n",
      "11            Savlon       40\n",
      "12             Ariel       30\n",
      "13        Surf excel       30\n",
      "14               Rin       30\n",
      "15          eyeliner      120\n"
     ]
    }
   ],
   "source": [
    "display_inventory_details()"
   ]
  },
  {
   "cell_type": "code",
   "execution_count": 196,
   "metadata": {},
   "outputs": [],
   "source": [
    "def sales_of_product(name:str,quantity:int)-> None:\n",
    "    \"\"\"Function to allow for the sale of products and to update the inventory accordingly.\n",
    "\n",
    "    Args:\n",
    "    name: Product name\n",
    "    quntity: Quantity\n",
    "\n",
    "    Returns: None   \n",
    "    \n",
    "    \"\"\"\n",
    "    available_quantity=int(data.loc[data[\"Product_Name\"]==name,\"Quantity\"])\n",
    "    if name not in list(data[\"Product_Name\"].unique()):\n",
    "        print(\"Sorry, the product is not available\")\n",
    "    elif available_quantity<quantity:\n",
    "        print(f\"Sorry, we have only {available_quantity} quantities available for {name}\")\n",
    "    else:\n",
    "        data.loc[data[\"Product_Name\"]==name,\"Quantity\"]=data.loc[data[\"Product_Name\"]==name,\"Quantity\"]-quantity"
   ]
  },
  {
   "cell_type": "code",
   "execution_count": 197,
   "metadata": {},
   "outputs": [
    {
     "data": {
      "text/html": [
       "<div>\n",
       "<style scoped>\n",
       "    .dataframe tbody tr th:only-of-type {\n",
       "        vertical-align: middle;\n",
       "    }\n",
       "\n",
       "    .dataframe tbody tr th {\n",
       "        vertical-align: top;\n",
       "    }\n",
       "\n",
       "    .dataframe thead th {\n",
       "        text-align: right;\n",
       "    }\n",
       "</style>\n",
       "<table border=\"1\" class=\"dataframe\">\n",
       "  <thead>\n",
       "    <tr style=\"text-align: right;\">\n",
       "      <th></th>\n",
       "      <th>Product_Name</th>\n",
       "      <th>Category</th>\n",
       "      <th>Price</th>\n",
       "      <th>Quantity</th>\n",
       "    </tr>\n",
       "  </thead>\n",
       "  <tbody>\n",
       "    <tr>\n",
       "      <th>0</th>\n",
       "      <td>dettol</td>\n",
       "      <td>Antiseptic</td>\n",
       "      <td>180</td>\n",
       "      <td>40</td>\n",
       "    </tr>\n",
       "    <tr>\n",
       "      <th>1</th>\n",
       "      <td>lizol</td>\n",
       "      <td>Antiseptic</td>\n",
       "      <td>100</td>\n",
       "      <td>15</td>\n",
       "    </tr>\n",
       "    <tr>\n",
       "      <th>2</th>\n",
       "      <td>coffee powder</td>\n",
       "      <td>Household</td>\n",
       "      <td>80</td>\n",
       "      <td>50</td>\n",
       "    </tr>\n",
       "    <tr>\n",
       "      <th>3</th>\n",
       "      <td>tea powder</td>\n",
       "      <td>Household</td>\n",
       "      <td>60</td>\n",
       "      <td>60</td>\n",
       "    </tr>\n",
       "    <tr>\n",
       "      <th>4</th>\n",
       "      <td>milk</td>\n",
       "      <td>Household</td>\n",
       "      <td>25</td>\n",
       "      <td>14</td>\n",
       "    </tr>\n",
       "    <tr>\n",
       "      <th>5</th>\n",
       "      <td>sugar</td>\n",
       "      <td>Household</td>\n",
       "      <td>45</td>\n",
       "      <td>50</td>\n",
       "    </tr>\n",
       "    <tr>\n",
       "      <th>6</th>\n",
       "      <td>salt</td>\n",
       "      <td>Household</td>\n",
       "      <td>10</td>\n",
       "      <td>50</td>\n",
       "    </tr>\n",
       "    <tr>\n",
       "      <th>7</th>\n",
       "      <td>diaper</td>\n",
       "      <td>Baby Items</td>\n",
       "      <td>1000</td>\n",
       "      <td>20</td>\n",
       "    </tr>\n",
       "    <tr>\n",
       "      <th>8</th>\n",
       "      <td>baby lotion</td>\n",
       "      <td>Baby Items</td>\n",
       "      <td>300</td>\n",
       "      <td>30</td>\n",
       "    </tr>\n",
       "    <tr>\n",
       "      <th>9</th>\n",
       "      <td>baby rash cream</td>\n",
       "      <td>Baby Items</td>\n",
       "      <td>200</td>\n",
       "      <td>10</td>\n",
       "    </tr>\n",
       "    <tr>\n",
       "      <th>10</th>\n",
       "      <td>baby milk powder</td>\n",
       "      <td>Baby Items</td>\n",
       "      <td>800</td>\n",
       "      <td>20</td>\n",
       "    </tr>\n",
       "    <tr>\n",
       "      <th>11</th>\n",
       "      <td>Savlon</td>\n",
       "      <td>Antiseptic</td>\n",
       "      <td>80</td>\n",
       "      <td>40</td>\n",
       "    </tr>\n",
       "    <tr>\n",
       "      <th>12</th>\n",
       "      <td>Ariel</td>\n",
       "      <td>Detergents</td>\n",
       "      <td>250</td>\n",
       "      <td>30</td>\n",
       "    </tr>\n",
       "    <tr>\n",
       "      <th>13</th>\n",
       "      <td>Surf excel</td>\n",
       "      <td>Detergents</td>\n",
       "      <td>200</td>\n",
       "      <td>30</td>\n",
       "    </tr>\n",
       "    <tr>\n",
       "      <th>14</th>\n",
       "      <td>Rin</td>\n",
       "      <td>Detergents</td>\n",
       "      <td>150</td>\n",
       "      <td>30</td>\n",
       "    </tr>\n",
       "    <tr>\n",
       "      <th>15</th>\n",
       "      <td>eyeliner</td>\n",
       "      <td>cosmetics</td>\n",
       "      <td>180</td>\n",
       "      <td>120</td>\n",
       "    </tr>\n",
       "  </tbody>\n",
       "</table>\n",
       "</div>"
      ],
      "text/plain": [
       "        Product_Name    Category Price Quantity\n",
       "0             dettol  Antiseptic   180       40\n",
       "1              lizol  Antiseptic   100       15\n",
       "2      coffee powder   Household    80       50\n",
       "3         tea powder   Household    60       60\n",
       "4               milk   Household    25       14\n",
       "5              sugar   Household    45       50\n",
       "6               salt   Household    10       50\n",
       "7             diaper  Baby Items  1000       20\n",
       "8        baby lotion  Baby Items   300       30\n",
       "9    baby rash cream  Baby Items   200       10\n",
       "10  baby milk powder  Baby Items   800       20\n",
       "11            Savlon  Antiseptic    80       40\n",
       "12             Ariel  Detergents   250       30\n",
       "13        Surf excel  Detergents   200       30\n",
       "14               Rin  Detergents   150       30\n",
       "15          eyeliner   cosmetics   180      120"
      ]
     },
     "execution_count": 197,
     "metadata": {},
     "output_type": "execute_result"
    }
   ],
   "source": [
    "sales_of_product(\"milk\",6)\n",
    "data"
   ]
  },
  {
   "cell_type": "code",
   "execution_count": 198,
   "metadata": {},
   "outputs": [
    {
     "data": {
      "text/plain": [
       "4    14\n",
       "Name: Quantity, dtype: object"
      ]
     },
     "execution_count": 198,
     "metadata": {},
     "output_type": "execute_result"
    }
   ],
   "source": [
    "data.loc[data[\"Product_Name\"]==\"milk\",\"Quantity\"]"
   ]
  },
  {
   "cell_type": "code",
   "execution_count": 199,
   "metadata": {},
   "outputs": [],
   "source": [
    "def generate_alert(threshold=20)->list:\n",
    "    \"\"\"Function to generate an alert if the product quantity is less than threshold\n",
    "    \n",
    "    args:\n",
    "    threshold: number\n",
    "    default threshold: 20\n",
    "\n",
    "    Returns: List\n",
    "\n",
    "    \"\"\"\n",
    "    product=list(data[data[\"Quantity\"]<threshold][\"Product_Name\"])\n",
    "    print(f\"{product} has to be restocked. It's quantity is below {threshold}.\")"
   ]
  },
  {
   "cell_type": "code",
   "execution_count": 200,
   "metadata": {},
   "outputs": [
    {
     "data": {
      "text/plain": [
       "1              lizol\n",
       "4               milk\n",
       "9    baby rash cream\n",
       "Name: Product_Name, dtype: object"
      ]
     },
     "execution_count": 200,
     "metadata": {},
     "output_type": "execute_result"
    }
   ],
   "source": [
    "data[data[\"Quantity\"]<20][\"Product_Name\"]"
   ]
  },
  {
   "cell_type": "code",
   "execution_count": 201,
   "metadata": {},
   "outputs": [
    {
     "name": "stdout",
     "output_type": "stream",
     "text": [
      "['lizol', 'milk', 'diaper', 'baby lotion', 'baby rash cream', 'baby milk powder', 'Ariel', 'Surf excel', 'Rin'] has to be restocked. It's quantity is below 40.\n"
     ]
    }
   ],
   "source": [
    "generate_alert(40)"
   ]
  }
 ],
 "metadata": {
  "kernelspec": {
   "display_name": "inventory_env",
   "language": "python",
   "name": "python3"
  },
  "language_info": {
   "codemirror_mode": {
    "name": "ipython",
    "version": 3
   },
   "file_extension": ".py",
   "mimetype": "text/x-python",
   "name": "python",
   "nbconvert_exporter": "python",
   "pygments_lexer": "ipython3",
   "version": "3.10.9"
  }
 },
 "nbformat": 4,
 "nbformat_minor": 2
}
